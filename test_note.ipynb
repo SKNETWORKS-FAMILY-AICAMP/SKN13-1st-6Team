{
 "cells": [
  {
   "cell_type": "code",
   "execution_count": 1,
   "id": "2b18f3ca-4f92-4408-bf64-d933e4b2c6c3",
   "metadata": {},
   "outputs": [
    {
     "name": "stdout",
     "output_type": "stream",
     "text": [
      "조회행수: 54\n"
     ]
    }
   ],
   "source": [
    "import DbConnection as db\n",
    "import random \n",
    "\n",
    "def choice_sixteen(lst:list = None):\n",
    "    if lst == None: \n",
    "        return None\n",
    "\n",
    "    choice_16 = random.sample(lst, 16)\n",
    "    return choice_16\n",
    "\n",
    "connnn = db.DbConnection() \n",
    "result = connnn.select_all_data(\"500만원~2000만원\")"
   ]
  },
  {
   "cell_type": "code",
   "execution_count": null,
   "id": "9b835ec0-c2ea-4805-91f2-d0d70d71f94d",
   "metadata": {},
   "outputs": [],
   "source": []
  },
  {
   "cell_type": "code",
   "execution_count": null,
   "id": "96624970-3260-4d11-8192-651c50d1b25f",
   "metadata": {},
   "outputs": [],
   "source": []
  }
 ],
 "metadata": {
  "kernelspec": {
   "display_name": "Python 3 (ipykernel)",
   "language": "python",
   "name": "python3"
  },
  "language_info": {
   "codemirror_mode": {
    "name": "ipython",
    "version": 3
   },
   "file_extension": ".py",
   "mimetype": "text/x-python",
   "name": "python",
   "nbconvert_exporter": "python",
   "pygments_lexer": "ipython3",
   "version": "3.12.7"
  }
 },
 "nbformat": 4,
 "nbformat_minor": 5
}
